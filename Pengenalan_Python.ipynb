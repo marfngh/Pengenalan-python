{
  "nbformat": 4,
  "nbformat_minor": 0,
  "metadata": {
    "colab": {
      "provenance": []
    },
    "kernelspec": {
      "name": "python3",
      "display_name": "Python 3"
    },
    "language_info": {
      "name": "python"
    }
  },
  "cells": [
    {
      "cell_type": "markdown",
      "source": [
        "1. Statment"
      ],
      "metadata": {
        "id": "D71y-TgWX2N-"
      }
    },
    {
      "cell_type": "code",
      "source": [
        "print(\"belajar Phyton menyenangkan\")\n",
        "print(\"halo dunia\")"
      ],
      "metadata": {
        "colab": {
          "base_uri": "https://localhost:8080/"
        },
        "id": "O3f3e_76WNVz",
        "outputId": "d86ae783-bd60-469e-a667-72473bc8f2e9"
      },
      "execution_count": 1,
      "outputs": [
        {
          "output_type": "stream",
          "name": "stdout",
          "text": [
            "belajar Phyton menyenangkan\n",
            "halo dunia\n"
          ]
        }
      ]
    },
    {
      "cell_type": "markdown",
      "source": [
        "2. Variabls"
      ],
      "metadata": {
        "id": "jg6o8p79X7nu"
      }
    },
    {
      "cell_type": "code",
      "source": [
        "bilangan1 = 5\n",
        "bilangan2 = 10\n",
        "kalimat = \"Pejuang Data 3\""
      ],
      "metadata": {
        "id": "nX0T1Zf2WzpG"
      },
      "execution_count": 2,
      "outputs": []
    },
    {
      "cell_type": "markdown",
      "source": [
        "3. Operators"
      ],
      "metadata": {
        "id": "nudBzV2VYBvw"
      }
    },
    {
      "cell_type": "code",
      "source": [
        "bilangan1 + bilangan2"
      ],
      "metadata": {
        "colab": {
          "base_uri": "https://localhost:8080/"
        },
        "id": "ZmSo9Nt9XUzC",
        "outputId": "252e3dda-c728-4752-c178-d6046e3a2315"
      },
      "execution_count": 3,
      "outputs": [
        {
          "output_type": "execute_result",
          "data": {
            "text/plain": [
              "15"
            ]
          },
          "metadata": {},
          "execution_count": 3
        }
      ]
    },
    {
      "cell_type": "markdown",
      "source": [
        "4. Comments"
      ],
      "metadata": {
        "id": "-InP23D3YHU_"
      }
    },
    {
      "cell_type": "markdown",
      "source": [
        "a. single line comment"
      ],
      "metadata": {
        "id": "5LlGozwrYHGX"
      }
    },
    {
      "cell_type": "code",
      "source": [
        "# Ini adalah Comment\n",
        "print(\"belajar Phyton\")"
      ],
      "metadata": {
        "colab": {
          "base_uri": "https://localhost:8080/"
        },
        "id": "WcNAoHKjXsjV",
        "outputId": "b2434f0d-7cdb-41ad-abf1-d55454537971"
      },
      "execution_count": 4,
      "outputs": [
        {
          "output_type": "stream",
          "name": "stdout",
          "text": [
            "belajar Phyton\n"
          ]
        }
      ]
    },
    {
      "cell_type": "markdown",
      "source": [
        "b. multi line comment"
      ],
      "metadata": {
        "id": "tU0eB4NzYRiu"
      }
    },
    {
      "cell_type": "code",
      "source": [
        "'''\n",
        "Ini adalah komentar panjang\n",
        "Bisa digunakan untuk memberikan penjelasan\n",
        "panjang pada Sell Kode Phyton,\n",
        "Misal dokumentasi program, spesifikasi\n",
        "input output atau lainnya\n",
        "'''\n",
        "print('Belajar Phyton menyenangkan')"
      ],
      "metadata": {
        "colab": {
          "base_uri": "https://localhost:8080/"
        },
        "id": "3jQVnUdIYZF6",
        "outputId": "c9002f68-f825-461f-c33d-51ee35e46234"
      },
      "execution_count": 5,
      "outputs": [
        {
          "output_type": "stream",
          "name": "stdout",
          "text": [
            "Belajar Phyton menyenangkan\n"
          ]
        }
      ]
    }
  ]
}